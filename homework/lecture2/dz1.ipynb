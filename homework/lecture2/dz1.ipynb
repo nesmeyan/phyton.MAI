#Программа, которая выводит текст песенки 99 бутылок пива.
i = 99
while i > 2 :
	print (i , 'bottles of beer on the wall,' , i , 'bottles of beer.') 
	i = i - 1
	print ('Take one down and pass it around,' , i , 'bottles of beer on the wall.')
while i > 1 :
	print (i , 'bottles of beer on the wall,' , i , 'bottles of beer.') 
	i = i-1
	print ('Take one down and pass it around,' , i , 'bottle of beer on the wall.')