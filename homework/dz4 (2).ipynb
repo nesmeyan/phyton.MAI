{
 "cells": [
  {
   "cell_type": "code",
   "execution_count": 1,
   "id": "e6aa8f85",
   "metadata": {},
   "outputs": [
    {
     "name": "stdout",
     "output_type": "stream",
     "text": [
      "[('M', 'p'), ('A', 'h'), ('I', 'y')]\n",
      "[('q', 3), ('q', 1)]\n"
     ]
    }
   ],
   "source": [
    "def zig(a, b):\n",
    "    if len(a) > len(b):\n",
    "        length = len(b)\n",
    "    else:\n",
    "        length = len(a)\n",
    "\n",
    "    for i in range(0, length):\n",
    "        d = (a[i], b[i])\n",
    "        yield d\n",
    "\n",
    "\n",
    "print(list(zig('MAI', 'phyton')))\n",
    "print(list(zig('qq', [3, 1, 0, 3])))"
   ]
  },
  {
   "cell_type": "code",
   "execution_count": null,
   "id": "a05b8e17",
   "metadata": {},
   "outputs": [],
   "source": []
  }
 ],
 "metadata": {
  "kernelspec": {
   "display_name": "Python 3 (ipykernel)",
   "language": "python",
   "name": "python3"
  },
  "language_info": {
   "codemirror_mode": {
    "name": "ipython",
    "version": 3
   },
   "file_extension": ".py",
   "mimetype": "text/x-python",
   "name": "python",
   "nbconvert_exporter": "python",
   "pygments_lexer": "ipython3",
   "version": "3.9.7"
  }
 },
 "nbformat": 4,
 "nbformat_minor": 5
}
