{
 "cells": [
  {
   "cell_type": "markdown",
   "id": "d89e88d8",
   "metadata": {},
   "source": [
    "# Самостоятельное задание #7\n",
    "\n",
    "\n",
    "### Задание 1\n",
    "\n",
    "Допишите функцию, которая принимает список чисел и, с помощью множеств, определяет количество различных чисел внутри списка."
   ]
  },
  {
   "cell_type": "code",
   "execution_count": 8,
   "id": "1b443f02",
   "metadata": {},
   "outputs": [
    {
     "name": "stdout",
     "output_type": "stream",
     "text": [
      "9\n"
     ]
    }
   ],
   "source": [
    "# Начните писать код тут\n",
    "def my_funciya(list):\n",
    "    set_5 = set(list)\n",
    "    print(len(set_5))\n",
    "\n",
    "\n",
    "list = [1, 3, 6, 8, 10, 15, 18, 25, 11]\n",
    "\n",
    "\n",
    "my_funciya(list)"
   ]
  },
  {
   "cell_type": "markdown",
   "id": "89118666",
   "metadata": {},
   "source": [
    "### Задание 2\n",
    "\n",
    "Допишите функцию, которая принимает несколько списков чисел и, с помощью множеств, определяет количество общих чисел из первого и второго списка."
   ]
  },
  {
   "cell_type": "code",
   "execution_count": 11,
   "id": "9ad5e3fd",
   "metadata": {},
   "outputs": [
    {
     "name": "stdout",
     "output_type": "stream",
     "text": [
      "2\n"
     ]
    }
   ],
   "source": [
    "# Начните писать код тут\n",
    "def my_funciya(list_1, list_2):\n",
    "    set_4, set_5 = set(list_1), set(list_2)\n",
    "    total = set_4 & set_5\n",
    "    print(len(total))\n",
    "\n",
    "\n",
    "list_1 = [1, 2, 3, 7, 10, 13, 16, 19, 22]\n",
    "list_2 = [1, 4, 7, 9, 11, 0, 11, 33]\n",
    "\n",
    "\n",
    "my_funciya(list_1, list_2)\n"
   ]
  },
  {
   "cell_type": "code",
   "execution_count": null,
   "id": "070c1a3a",
   "metadata": {},
   "outputs": [],
   "source": []
  }
 ],
 "metadata": {
  "kernelspec": {
   "display_name": "Python 3 (ipykernel)",
   "language": "python",
   "name": "python3"
  },
  "language_info": {
   "codemirror_mode": {
    "name": "ipython",
    "version": 3
   },
   "file_extension": ".py",
   "mimetype": "text/x-python",
   "name": "python",
   "nbconvert_exporter": "python",
   "pygments_lexer": "ipython3",
   "version": "3.9.7"
  }
 },
 "nbformat": 4,
 "nbformat_minor": 5
}
