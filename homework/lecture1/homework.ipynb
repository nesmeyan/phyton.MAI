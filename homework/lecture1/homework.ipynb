# Python 

def say_hello(): # Объявление функции say_hello
	print('Hello MAI!) # Вызов встроенной функции print с параметром 'Hello MAI!'

say_hello() # Вызов функции say_hello