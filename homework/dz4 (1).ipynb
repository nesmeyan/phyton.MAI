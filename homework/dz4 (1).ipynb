{
 "cells": [
  {
   "cell_type": "code",
   "execution_count": 3,
   "id": "d2329e53",
   "metadata": {},
   "outputs": [
    {
     "name": "stdout",
     "output_type": "stream",
     "text": [
      "[(0, 'MAI'), (1, 'qq'), (2, 'phyton')]\n",
      "[(0, 'q'), (1, 'q'), (2, ' '), (3, 'M'), (4, 'A'), (5, 'I'), (6, '!')]\n"
     ]
    }
   ],
   "source": [
    "def ky(arr):\n",
    "    num = 0\n",
    "    for i in arr:\n",
    "        b = (num, i)\n",
    "        yield b\n",
    "        num += 1\n",
    "\n",
    "\n",
    "print(list(ky(['MAI', 'qq', 'phyton'])))\n",
    "print(list(ky('qq MAI!')))"
   ]
  },
  {
   "cell_type": "code",
   "execution_count": null,
   "id": "9071fd0b",
   "metadata": {},
   "outputs": [],
   "source": []
  }
 ],
 "metadata": {
  "kernelspec": {
   "display_name": "Python 3 (ipykernel)",
   "language": "python",
   "name": "python3"
  },
  "language_info": {
   "codemirror_mode": {
    "name": "ipython",
    "version": 3
   },
   "file_extension": ".py",
   "mimetype": "text/x-python",
   "name": "python",
   "nbconvert_exporter": "python",
   "pygments_lexer": "ipython3",
   "version": "3.9.7"
  }
 },
 "nbformat": 4,
 "nbformat_minor": 5
}
