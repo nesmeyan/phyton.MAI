{
 "cells": [
  {
   "cell_type": "markdown",
   "id": "657be689",
   "metadata": {},
   "source": [
    " Самостоятельное задание #3\n",
    "\n",
    " Задание 1\n",
    "\n",
    "Допишите функцию, которая принимает массив из 10 чисел и возвращает их сумму."
   ]
  },
  {
   "cell_type": "code",
   "execution_count": 1,
   "id": "18ffcbab",
   "metadata": {},
   "outputs": [
    {
     "name": "stdout",
     "output_type": "stream",
     "text": [
      "lenght of array > 10!\n"
     ]
    }
   ],
   "source": [
    "def sum_of_ten_numbers(arr: list) -> float:\n",
    "    if len(arr) > 10:\n",
    "        print('lenght of array > 10!')\n",
    "        return\n",
    "    sum = 0\n",
    "    for i in arr:\n",
    "        sum += i\n",
    "    return sum \n",
    "arr = [1, 2, 3, 4, 5, 6, 7, 8, 9, 10, 11]\n",
    "sum_of_ten_numbers(arr)"
   ]
  },
  {
   "cell_type": "markdown",
   "id": "eb78afc0",
   "metadata": {},
   "source": [
    "Задание 2"
   ]
  },
  {
   "cell_type": "code",
   "execution_count": 2,
   "id": "7e8fe536",
   "metadata": {},
   "outputs": [
    {
     "data": {
      "text/plain": [
       "2"
      ]
     },
     "execution_count": 2,
     "metadata": {},
     "output_type": "execute_result"
    }
   ],
   "source": [
    "def number_of_zeros(arr: list) -> float:\n",
    "    sum = 0\n",
    "    for i in arr:\n",
    "        if i == 0:\n",
    "            sum += 1\n",
    "    return sum \n",
    "arr = [1, 2, 3, 0, 8, 9, 0]\n",
    "number_of_zeros(arr)"
   ]
  },
  {
   "cell_type": "markdown",
   "id": "570d5a26",
   "metadata": {},
   "source": [
    "\n",
    " Задание 3\n",
    "\n",
    "Напишите программу, в которой задается  натуральное число n и выводится лестница из n ступенек, i-я ступенька должна состоять из чисел от 1 до i без пробелов."
   ]
  },
  {
   "cell_type": "code",
   "execution_count": 2,
   "id": "69fd0501",
   "metadata": {},
   "outputs": [
    {
     "name": "stdout",
     "output_type": "stream",
     "text": [
      "1\n",
      "12\n",
      "123\n",
      "1234\n",
      "12345\n",
      "123456\n",
      "1234567\n"
     ]
    }
   ],
   "source": [
    "def lesnica(i:int) -> int:\n",
    "    for b in range (1,i+1):\n",
    "        for a in range (1,b+1):\n",
    "            print (a,end = '')\n",
    "        else:\n",
    "            print('')\n",
    "            \n",
    "lesnica(7)"
   ]
  },
  {
   "cell_type": "markdown",
   "id": "b6ef1c44",
   "metadata": {},
   "source": [
    "\n",
    " Задание 4\n",
    "\n",
    "Напишите программу, в которой задается натуральное число n и выводится пирамида из n ступенек, i-я ступень должна состоять из чисел от 1 до i и обратно без пробелов."
   ]
  },
  {
   "cell_type": "code",
   "execution_count": 4,
   "id": "6b038f87",
   "metadata": {},
   "outputs": [
    {
     "name": "stdout",
     "output_type": "stream",
     "text": [
      "    11\n",
      "   1221\n",
      "  123321\n",
      " 12344321\n",
      "1234554321\n"
     ]
    }
   ],
   "source": [
    "def treygolnik(i:int) -> int:\n",
    "    for b in range (1,i+1):\n",
    "        print (' '*(i-b), end = '')\n",
    "        for a in range (1,b+1):\n",
    "            print (a,end = '')\n",
    "        for a in range (b,0,-1):\n",
    "            print (a,end = '')\n",
    "        else:\n",
    "            print('')\n",
    "            \n",
    "treygolnik(5)"
   ]
  },
  {
   "cell_type": "markdown",
   "id": "b4552ef5",
   "metadata": {},
   "source": [
    "\n",
    "Задание 5\n",
    "\n",
    "Напишите программу, в которой задается натуральное число n и выводится ромб из `n*2-1` ступенек, i-я ступень должна состоять из чисел от 1 до i и обратно без пробелов."
   ]
  },
  {
   "cell_type": "code",
   "execution_count": 5,
   "id": "cfe3ab4b",
   "metadata": {},
   "outputs": [
    {
     "name": "stdout",
     "output_type": "stream",
     "text": [
      "        11\n",
      "       1221\n",
      "      123321\n",
      "     12344321\n",
      "    1234554321\n",
      "   123456654321\n",
      "  12345677654321\n",
      " 1234567887654321\n",
      "  12345677654321\n",
      "   123456654321\n",
      "    1234554321\n",
      "     12344321\n",
      "      123321\n",
      "       1221\n",
      "        11\n"
     ]
    }
   ],
   "source": [
    "def rombik(i:int) -> int:\n",
    "    for b in range (1,i):\n",
    "        print (' '*(i-b+1), end = '')\n",
    "        for a in range (1,b+1):\n",
    "            print (a,end = '')\n",
    "        for a in range (b,0,-1):\n",
    "            print (a,end = '')\n",
    "        else:\n",
    "            print('')\n",
    "    for b in range (i,0,-1):\n",
    "        print (' '*(i-b+1), end = '')\n",
    "        for a in range (1,b+1):\n",
    "            print (a,end = '')\n",
    "        for a in range (b,0,-1):\n",
    "            print (a,end = '')\n",
    "        else:\n",
    "            print('')\n",
    "            \n",
    "rombik(8)"
   ]
  },
  {
   "cell_type": "code",
   "execution_count": null,
   "id": "d0906628",
   "metadata": {},
   "outputs": [],
   "source": []
  }
 ],
 "metadata": {
  "kernelspec": {
   "display_name": "Python 3 (ipykernel)",
   "language": "python",
   "name": "python3"
  },
  "language_info": {
   "codemirror_mode": {
    "name": "ipython",
    "version": 3
   },
   "file_extension": ".py",
   "mimetype": "text/x-python",
   "name": "python",
   "nbconvert_exporter": "python",
   "pygments_lexer": "ipython3",
   "version": "3.9.7"
  }
 },
 "nbformat": 4,
 "nbformat_minor": 5
}
